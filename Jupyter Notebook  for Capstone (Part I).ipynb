{
    "cells": [
        {
            "cell_type": "markdown",
            "metadata": {},
            "source": "<h1>Applied Data Science Capstone Final Assignment:</h1>"
        },
        {
            "cell_type": "markdown",
            "metadata": {},
            "source": "<h2>map.py</h2>"
        },
        {
            "cell_type": "code",
            "execution_count": 23,
            "metadata": {},
            "outputs": [
                {
                    "ename": "FileNotFoundError",
                    "evalue": "[Errno 2] No such file or directory: 'Wildlife_Management_Unit.json'",
                    "output_type": "error",
                    "traceback": [
                        "\u001b[0;31m---------------------------------------------------------------------------\u001b[0m",
                        "\u001b[0;31mFileNotFoundError\u001b[0m                         Traceback (most recent call last)",
                        "\u001b[0;32m<ipython-input-23-3d7a1f72181f>\u001b[0m in \u001b[0;36m<module>\u001b[0;34m\u001b[0m\n\u001b[1;32m     30\u001b[0m \u001b[0mwmudata\u001b[0m \u001b[0;34m=\u001b[0m \u001b[0mos\u001b[0m\u001b[0;34m.\u001b[0m\u001b[0mpath\u001b[0m\u001b[0;34m.\u001b[0m\u001b[0mjoin\u001b[0m\u001b[0;34m(\u001b[0m\u001b[0;34m'Wildlife_Management_Unit.json'\u001b[0m\u001b[0;34m)\u001b[0m\u001b[0;34m\u001b[0m\u001b[0;34m\u001b[0m\u001b[0m\n\u001b[1;32m     31\u001b[0m \u001b[0;34m\u001b[0m\u001b[0m\n\u001b[0;32m---> 32\u001b[0;31m \u001b[0mfolium\u001b[0m\u001b[0;34m.\u001b[0m\u001b[0mGeoJson\u001b[0m\u001b[0;34m(\u001b[0m\u001b[0mwmudata\u001b[0m\u001b[0;34m,\u001b[0m \u001b[0mname\u001b[0m\u001b[0;34m=\u001b[0m\u001b[0;34m'wmu'\u001b[0m\u001b[0;34m)\u001b[0m\u001b[0;34m.\u001b[0m\u001b[0madd_to\u001b[0m\u001b[0;34m(\u001b[0m\u001b[0mpolygon_map\u001b[0m\u001b[0;34m)\u001b[0m\u001b[0;34m\u001b[0m\u001b[0;34m\u001b[0m\u001b[0m\n\u001b[0m\u001b[1;32m     33\u001b[0m \u001b[0;34m\u001b[0m\u001b[0m\n\u001b[1;32m     34\u001b[0m \u001b[0;31m#Display the map\u001b[0m\u001b[0;34m\u001b[0m\u001b[0;34m\u001b[0m\u001b[0;34m\u001b[0m\u001b[0m\n",
                        "\u001b[0;32m/opt/conda/envs/Python36/lib/python3.6/site-packages/folium/features.py\u001b[0m in \u001b[0;36m__init__\u001b[0;34m(self, data, style_function, highlight_function, name, overlay, control, show, smooth_factor, tooltip, embed)\u001b[0m\n\u001b[1;32m    448\u001b[0m         \u001b[0mself\u001b[0m\u001b[0;34m.\u001b[0m\u001b[0mhighlight\u001b[0m \u001b[0;34m=\u001b[0m \u001b[0mhighlight_function\u001b[0m \u001b[0;32mis\u001b[0m \u001b[0;32mnot\u001b[0m \u001b[0;32mNone\u001b[0m\u001b[0;34m\u001b[0m\u001b[0;34m\u001b[0m\u001b[0m\n\u001b[1;32m    449\u001b[0m \u001b[0;34m\u001b[0m\u001b[0m\n\u001b[0;32m--> 450\u001b[0;31m         \u001b[0mself\u001b[0m\u001b[0;34m.\u001b[0m\u001b[0mdata\u001b[0m \u001b[0;34m=\u001b[0m \u001b[0mself\u001b[0m\u001b[0;34m.\u001b[0m\u001b[0mprocess_data\u001b[0m\u001b[0;34m(\u001b[0m\u001b[0mdata\u001b[0m\u001b[0;34m)\u001b[0m\u001b[0;34m\u001b[0m\u001b[0;34m\u001b[0m\u001b[0m\n\u001b[0m\u001b[1;32m    451\u001b[0m \u001b[0;34m\u001b[0m\u001b[0m\n\u001b[1;32m    452\u001b[0m         \u001b[0;32mif\u001b[0m \u001b[0mself\u001b[0m\u001b[0;34m.\u001b[0m\u001b[0mstyle\u001b[0m \u001b[0;32mor\u001b[0m \u001b[0mself\u001b[0m\u001b[0;34m.\u001b[0m\u001b[0mhighlight\u001b[0m\u001b[0;34m:\u001b[0m\u001b[0;34m\u001b[0m\u001b[0;34m\u001b[0m\u001b[0m\n",
                        "\u001b[0;32m/opt/conda/envs/Python36/lib/python3.6/site-packages/folium/features.py\u001b[0m in \u001b[0;36mprocess_data\u001b[0;34m(self, data)\u001b[0m\n\u001b[1;32m    483\u001b[0m                 \u001b[0;32mif\u001b[0m \u001b[0;32mnot\u001b[0m \u001b[0mself\u001b[0m\u001b[0;34m.\u001b[0m\u001b[0membed\u001b[0m\u001b[0;34m:\u001b[0m\u001b[0;34m\u001b[0m\u001b[0;34m\u001b[0m\u001b[0m\n\u001b[1;32m    484\u001b[0m                     \u001b[0mself\u001b[0m\u001b[0;34m.\u001b[0m\u001b[0membed_link\u001b[0m \u001b[0;34m=\u001b[0m \u001b[0mdata\u001b[0m\u001b[0;34m\u001b[0m\u001b[0;34m\u001b[0m\u001b[0m\n\u001b[0;32m--> 485\u001b[0;31m                 \u001b[0;32mwith\u001b[0m \u001b[0mopen\u001b[0m\u001b[0;34m(\u001b[0m\u001b[0mdata\u001b[0m\u001b[0;34m)\u001b[0m \u001b[0;32mas\u001b[0m \u001b[0mf\u001b[0m\u001b[0;34m:\u001b[0m\u001b[0;34m\u001b[0m\u001b[0;34m\u001b[0m\u001b[0m\n\u001b[0m\u001b[1;32m    486\u001b[0m                     \u001b[0;32mreturn\u001b[0m \u001b[0mjson\u001b[0m\u001b[0;34m.\u001b[0m\u001b[0mloads\u001b[0m\u001b[0;34m(\u001b[0m\u001b[0mf\u001b[0m\u001b[0;34m.\u001b[0m\u001b[0mread\u001b[0m\u001b[0;34m(\u001b[0m\u001b[0;34m)\u001b[0m\u001b[0;34m)\u001b[0m\u001b[0;34m\u001b[0m\u001b[0;34m\u001b[0m\u001b[0m\n\u001b[1;32m    487\u001b[0m         \u001b[0;32melif\u001b[0m \u001b[0mhasattr\u001b[0m\u001b[0;34m(\u001b[0m\u001b[0mdata\u001b[0m\u001b[0;34m,\u001b[0m \u001b[0;34m'__geo_interface__'\u001b[0m\u001b[0;34m)\u001b[0m\u001b[0;34m:\u001b[0m\u001b[0;34m\u001b[0m\u001b[0;34m\u001b[0m\u001b[0m\n",
                        "\u001b[0;31mFileNotFoundError\u001b[0m: [Errno 2] No such file or directory: 'Wildlife_Management_Unit.json'"
                    ]
                }
            ],
            "source": "#!pip install folium\nimport json\nimport foursquare\nimport pandas as pd\nfrom branca.element import CssLink, Figure, JavascriptLink, MacroElement\nfrom branca.element import IFrame\nfrom folium import GeoJson, Map, FeatureGroup, Popup, Marker\nfrom folium.utilities import parse_options\nfrom geopy import Nominatim\nfrom jinja2 import Template\nfrom geopy.exc import GeocoderTimedOut\nimport geopy\n\ndef do_geocode(add):\n    try:\n        return geopy.geocode(address)\n    except GeocoderTimedOut:\n        return do_geocode(address)\n\n#provides the 'find my location' functionality.\nclass LocateControl(MacroElement):\n\n    _template = Template(\"\"\"\n        {% macro script(this, kwargs) %}\n            var {{this.get_name()}} = L.control.locate(\n                {{this.options | tojson}}\n            ).addTo({{this._parent.get_name()}});\n        {% endmacro %}\n        \"\"\")\n\n    def __init__(self, **kwargs):\n        super(LocateControl, self).__init__()\n        self._name = 'LocateControl'\n        self.options = parse_options(**kwargs)\n\n    def render(self, **kwargs):\n        super(LocateControl, self).render(**kwargs)\n        figure = self.get_root()\n        assert isinstance(figure, Figure), ('You cannot render this Element '\n                                            'if it is not in a Figure.')\n\n        figure.header.add_child(\n            CssLink(\n                \"https://cdnjs.cloudflare.com/ajax/libs/leaflet-locatecontrol/0.66.2/L.Control.Locate.min.css\"))  # noqa\n        figure.header.add_child(JavascriptLink(\n            \"https://cdnjs.cloudflare.com/ajax/libs/leaflet-locatecontrol/0.66.2/L.Control.Locate.min.js\"))  # noqa\n\n# Define coordinates of where we want to center our map.\nboulder_coords = [51.042733, -86.900280]\n\n# Using polygon markers with colors instead of default markers.\npolygon_map = Map(location=boulder_coords, zoom_start=5, min_zoom=5)\n\n#provides the popup labels for each GeoJSON object.\nwmu_list = ['3','67','87D','68B','19','91A','89B','9B','21B','8','37','80','87C','69A-2','83B','73','69B',\n                     '16B','42','23','30','83C','5','82B','32','76C','74B','86B','18B','58','59','69A-3','17','72A',\n                     '75','25','85B','72B','87A','63A','55B','86A','68A','2','12A','82A','89A','64A','24','74A','7B',\n                     '14','39','60','1C','7A','84','27','79C','90A','63B','35','50','6','11C','9A','78A','83A','47',\n                     '81A','87E','92C','12B','93A','78B','20','26','70','77C','71','78E','88','90B','34','28','15A',\n                     '53B','21A','13','49','87B','69A-1','78D','95','61','54','44','81B','91B','1B','94A','10','92D',\n                     '46','77B','79D','38','41','85A','82C','33','43B','85C','51','92B','78C','1D','16A','94B','55A',\n                     '1A','31','53A','64B','76E','76D','16C','18A','11A','92A','48','76B','57','4','43A','62','36',\n                     '93C','56','22','76A','66B','65','45','77A','15B','11B','40','29','66A','93B']\n\ndf_rules = pd.read_csv('Dates.csv')\n\n#['WMU', 'Animal', 'Category', 'Resident Dates', 'Non-resident Dates']\n#iterates through the JSON object array and applies each individal object to the map with the required popup.\nwith open('Wildlife_Management_Unit.json') as json_file:\n    data = json.load(json_file)\n    for i in range(0, 151): #151\n        geo = GeoJson(data=data[\"features\"][i], style_function=lambda x: {'weight':1,'color':'#5BDAE9','dashArray':'1 3'},\n                highlight_function=lambda x: {'weight':2,'color':'orange', 'dashArray':'1 7'},\n                name='wmu 1').add_to(polygon_map)\n\n        html = \"<!DOCTYPE html><html><style> table,p { font-size: 13px; border-collapse: collapse; width: 100%; } </style><p><strong><center>Wildlife Management Unit \"+str(wmu_list[i]) +\\\n               \"</center></strong></p><br><table border='1'><tr><th>WMU</th><th>Animal</th><th>Category</th><th>Resident Dates</th>\" \\\n               \"<th>Non-Resident Dates</th></tr>\"\n\n        #list populated with lists of panda rows\n        list_temp = []\n\n        #get all rows that meet the wmu.\n        for j in range(0, len(df_rules)):\n            if df_rules.iloc[j, 0] == wmu_list[i]:\n                list_temp.append(list(df_rules.iloc[j, :]))\n\n        #update html table accordingly.\n        for j in range (0, len(list_temp)):\n            #creates a new html table row that is 5 cols wide.\n            html += \"\"\"\n                    <tr>\n                        <td>\n                        \"\"\"+str(list_temp[j][0])+\"\"\"\n                        </td>\n                        <td>\n                        \"\"\"+str(list_temp[j][1])+\"\"\"\n                        </td>\n                        <td>\n                        \"\"\"+str(list_temp[j][2])+\"\"\"\n                        </td>\n                        <td>\n                        \"\"\"+str(list_temp[j][3])+\"\"\"\n                        </td>\n                        <td>\n                        \"\"\"+str(list_temp[j][4])+\"\"\"\n                        </td>\n                    </tr>\n                    \"\"\"\n        html+=\"</table></html>\"\n        iframe = IFrame(html=html, width=600, height=400)\n        popup = Popup(iframe)\n        popup.add_to(geo)\n\nCLIENT_ID = 'H5BWH5B5EIER3USNJC5IDE5C32KD5YUVO3WDQ5IUOCCRARI5'\nCLIENT_SECRET = 'PBIDS2HQ2ZRRPWAYU1JZNXCRTXR53SHFJH5VGJEHCWGHWKR0'\nVERSION = '20191120'\n\n#creates a client object\nclient = foursquare.Foursquare(client_id=CLIENT_ID, client_secret=CLIENT_SECRET)\n\n#query keywords for POI's\n\n#coordinates from varius regions around the province to effectively search the entire province.\ncardinal_coords = ['43.358898,-80.839510', '49.465234,-81.336715','45.284421,-76.343714','48.945103,-90.040407',\n                   '44.502762, -76.187975','46.601271, -80.827440','47.146339, -84.093960','47.881927, -84.654609',\n                   '47.993280, -83.681636','49.353442, -87.034969','52.509904, -86.769346','53.964822, -90.582330',\n                   '51.449819, -92.770166','49.105972, -92.436442', '54.667345, -84.233772']\n\n#empty dataframe to hold POI data\ndf_poi = pd.DataFrame()\n\nfor coord in cardinal_coords:\n    #conducts a FourSquare API call.\n    json_dict = client.venues.search(params={'query': 'ServiceOntario', 'll': coord, 'radius' : '100000', 'state': 'ON', 'country': 'Canada', 'intent' : 'browse'})\n    for i in range(0, len(json_dict['venues'])):\n        venue = json_dict['venues'][i]\n        print(venue)\n        name = venue['name']\n        lower = name.lower()\n        if 'service' not in lower or 'ontario' not in lower:\n            continue\n        lat = venue['location']['lat']\n        lng = venue['location']['lng']\n        coord_formatted = str(lat) + \",\" + str(lng)\n        geolocator = Nominatim(user_agent=\"hunting-map-capstone\")\n        address = geolocator.reverse(coord_formatted)\n        data_list = [name,lat,lng,address]\n        df_poi = df_poi.append(pd.DataFrame(columns=['Name','Latitude','Longitude', 'Address'], data=[data_list]))\n\nprint(df_poi.to_string())\n\nfeature_group = FeatureGroup(name='ServiceOntario Locations (Hunting Tags)')\n\nfor _, row in df_poi.iterrows():\n    html = '<html><strong>Service Ontario</strong><br><p>'+str(row['Address']) + '</p><html>'\n    iframe = IFrame(html=html, width=200, height=150)\n    popup = Popup(iframe)\n    Marker(location=[row['Latitude'], row['Longitude']],\n           popup=popup).add_to(feature_group)\n\nfeature_group.add_to(polygon_map)\n\n#adds the 'find my location' control.\nLocateControl().add_to(polygon_map)\n\n#display the map.\npolygon_map.save(outfile= \"wmumap.html\")\n\n"
        },
        {
            "cell_type": "markdown",
            "metadata": {},
            "source": "<h2>locate_control.py</h2>"
        },
        {
            "cell_type": "code",
            "execution_count": null,
            "metadata": {},
            "outputs": [],
            "source": "\"\"\"Add Locate control to folium Map.\nBased on leaflet plugin: https://github.com/domoritz/leaflet-locatecontrol\n\"\"\"\n\nfrom branca.element import CssLink, Figure, JavascriptLink, MacroElement\nfrom jinja2 import Template\nfrom folium.utilities import parse_options\n\nclass LocateControl(MacroElement):\n    \"\"\"Control plugin to geolocate the user.\n    This plugins adds a button to the map, and when it's clicked shows the current\n    user device location.\n    To work properly in production, the connection needs to be encrypted, otherwise browser will not\n    allow users to share their location.\n    Parameters\n    ----------\n    **kwargs\n        For possible options, see https://github.com/domoritz/leaflet-locatecontrol\n    Examples\n    --------\n    >>> m = folium.Map()\n    # With default settings\n    >>> LocateControl().add_to(m)\n    # With some custom options\n    >>> LocateControl(\n    ...     position=\"bottomright\",\n    ...     strings={\"title\": \"See you current location\",\n    ...              \"popup\": \"Your position\"}).add_to(m))\n    For more info check:\n    https://github.com/domoritz/leaflet-locatecontrol\n    \"\"\"\n\n    _template = Template(\"\"\"\n        {% macro script(this, kwargs) %}\n            var {{this.get_name()}} = L.control.locate(\n                {{this.options | tojson}}\n            ).addTo({{this._parent.get_name()}});\n        {% endmacro %}\n        \"\"\")\n\n    def __init__(self, **kwargs):\n        super(LocateControl, self).__init__()\n        self._name = 'LocateControl'\n        self.options = parse_options(**kwargs)\n\n    def render(self, **kwargs):\n        super(LocateControl, self).render(**kwargs)\n        figure = self.get_root()\n        assert isinstance(figure, Figure), ('You cannot render this Element '\n                                            'if it is not in a Figure.')\n\n        figure.header.add_child(\n            CssLink(\n                \"https://cdnjs.cloudflare.com/ajax/libs/leaflet-locatecontrol/0.66.2/L.Control.Locate.min.css\"))  # noqa\n        figure.header.add_child(JavascriptLink(\n            \"https://cdnjs.cloudflare.com/ajax/libs/leaflet-locatecontrol/0.66.2/L.Control.Locate.min.js\"))  # noqa"
        },
        {
            "cell_type": "markdown",
            "metadata": {},
            "source": "<h2>html output: (static hosted with netlify) </h2>"
        },
        {
            "cell_type": "markdown",
            "metadata": {},
            "source": "<a href=\"https://modest-hawking-4ecc01.netlify.com/\"> map.html </a>"
        },
        {
            "cell_type": "markdown",
            "metadata": {},
            "source": "<h2>Screenshot</h2>"
        },
        {
            "cell_type": "markdown",
            "metadata": {},
            "source": "<img src=\"https://imgur.com/vLEKkVl\">\n"
        },
        {
            "cell_type": "code",
            "execution_count": null,
            "metadata": {},
            "outputs": [],
            "source": ""
        }
    ],
    "metadata": {
        "kernelspec": {
            "display_name": "Python 3.6",
            "language": "python",
            "name": "python3"
        },
        "language_info": {
            "codemirror_mode": {
                "name": "ipython",
                "version": 3
            },
            "file_extension": ".py",
            "mimetype": "text/x-python",
            "name": "python",
            "nbconvert_exporter": "python",
            "pygments_lexer": "ipython3",
            "version": "3.6.8"
        }
    },
    "nbformat": 4,
    "nbformat_minor": 1
}